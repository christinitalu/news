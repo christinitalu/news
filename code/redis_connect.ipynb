{
 "cells": [
  {
   "cell_type": "code",
   "execution_count": 1,
   "metadata": {},
   "outputs": [
    {
     "name": "stdout",
     "output_type": "stream",
     "text": [
      "Requirement already satisfied: redis in /opt/conda/lib/python3.6/site-packages (3.0.1)\n",
      "Requirement already satisfied: line-bot-sdk in /opt/conda/lib/python3.6/site-packages (1.8.0)\n",
      "Requirement already satisfied: future in /opt/conda/lib/python3.6/site-packages (from line-bot-sdk) (0.17.1)\n",
      "Requirement already satisfied: requests>=2.0 in /opt/conda/lib/python3.6/site-packages (from line-bot-sdk) (2.19.1)\n",
      "Requirement already satisfied: chardet<3.1.0,>=3.0.2 in /opt/conda/lib/python3.6/site-packages (from requests>=2.0->line-bot-sdk) (3.0.4)\n",
      "Requirement already satisfied: idna<2.8,>=2.5 in /opt/conda/lib/python3.6/site-packages (from requests>=2.0->line-bot-sdk) (2.7)\n",
      "Requirement already satisfied: urllib3<1.24,>=1.21.1 in /opt/conda/lib/python3.6/site-packages (from requests>=2.0->line-bot-sdk) (1.23)\n",
      "Requirement already satisfied: certifi>=2017.4.17 in /opt/conda/lib/python3.6/site-packages (from requests>=2.0->line-bot-sdk) (2018.8.13)\n"
     ]
    }
   ],
   "source": [
    "!pip install redis\n",
    "!pip install line-bot-sdk"
   ]
  },
  {
   "cell_type": "code",
   "execution_count": 2,
   "metadata": {},
   "outputs": [],
   "source": [
    "\"\"\"\n",
    "\n",
    "    1.針對跟redis的連線\n",
    "    \n",
    "\n",
    "\"\"\"\n",
    "\n",
    "import redis\n",
    "\n",
    "#製作redis連線\n",
    "redis = redis.Redis(\n",
    "    #redis container的host name\n",
    "    host='redis',\n",
    "    port=6379,\n",
    "    #預設沒密碼\n",
    "    password=None,\n",
    "    #給格式\n",
    "    charset=\"utf-8\",\n",
    "    #要解碼不然回傳的資料前面會多一個b\n",
    "    decode_responses=True)\n"
   ]
  },
  {
   "cell_type": "code",
   "execution_count": 3,
   "metadata": {},
   "outputs": [
    {
     "data": {
      "text/plain": [
       "0"
      ]
     },
     "execution_count": 3,
     "metadata": {},
     "output_type": "execute_result"
    }
   ],
   "source": [
    "#redis.hmset(\"test\",{\"message\":\"88\"})\n",
    "redis.sadd(\"my_set\", \"87\", \"88\", \"89\")"
   ]
  },
  {
   "cell_type": "code",
   "execution_count": 4,
   "metadata": {},
   "outputs": [
    {
     "data": {
      "text/plain": [
       "True"
      ]
     },
     "execution_count": 4,
     "metadata": {},
     "output_type": "execute_result"
    }
   ],
   "source": [
    "redis.scard(\"my_set\")\n",
    "redis.smembers(\"my_set\")\n",
    "\"87\" in redis.smembers(\"my_set\")"
   ]
  },
  {
   "cell_type": "code",
   "execution_count": 1,
   "metadata": {},
   "outputs": [
    {
     "name": "stdout",
     "output_type": "stream",
     "text": [
      "Requirement already satisfied: python-logstash in /opt/conda/lib/python3.6/site-packages (0.4.6)\r\n"
     ]
    }
   ],
   "source": [
    "!pip install python-logstash"
   ]
  },
  {
   "cell_type": "code",
<<<<<<< HEAD
   "execution_count": 2,
=======
   "execution_count": 3,
>>>>>>> f8dc01565c13d6f0730398b1a667d3b17afb63ef
   "metadata": {},
   "outputs": [
    {
     "name": "stdout",
     "output_type": "stream",
     "text": [
      "done,please see kibana\n"
     ]
    }
   ],
   "source": [
    "import logging\n",
    "import logstash\n",
    "import sys\n",
    "\n",
    "host = 'logstash'\n",
    "\n",
    "test_logger = logging.getLogger('python-logstash-logger')\n",
    "test_logger.setLevel(logging.INFO)\n",
    "\n",
    "# UDP\n",
    "# test_logger.addHandler(logstash.LogstashHandler(host, 12201, version=1))\n",
    "\n",
    "# TCP\n",
    "test_logger.addHandler(logstash.TCPLogstashHandler(host, 5000, version=1))\n",
    "\n",
    "test_logger.error('python-logstash: test logstash error message.')\n",
    "test_logger.info('python-logstash: test logstash info message.')\n",
    "test_logger.warning('python-logstash: test logstash warning message.')\n",
    "\n",
    "# add extra field to logstash message\n",
    "extra = {\n",
    "    'test_string': 'python version: ' + repr(sys.version_info),\n",
    "    'test_boolean': True,\n",
    "    'test_dict': {'a': 1, 'b': 'c'},\n",
    "    'test_float': 1.23,\n",
    "    'test_integer': 123,\n",
    "    'test_list': [1, 2, '3'],\n",
    "}\n",
    "test_logger.info('python-logstash: test extra fields', extra=extra)\n",
    "test_logger.handlers.clear()\n",
    "print('done,please see kibana')"
   ]
  },
  {
   "cell_type": "code",
   "execution_count": 8,
   "metadata": {},
   "outputs": [
    {
     "name": "stdout",
     "output_type": "stream",
     "text": [
      "Thu Nov 29 16:37:56 2018\n"
     ]
    }
   ],
   "source": [
    "import time\n",
    "\n",
    "print(time.asctime())"
   ]
  },
  {
   "cell_type": "code",
   "execution_count": 9,
   "metadata": {},
   "outputs": [
    {
     "data": {
      "text/plain": [
       "datetime.date(2018, 11, 29)"
      ]
     },
     "execution_count": 9,
     "metadata": {},
     "output_type": "execute_result"
    }
   ],
   "source": [
    "import datetime\n",
    "today = datetime.date.today()\n",
    "today"
   ]
  },
  {
   "cell_type": "code",
   "execution_count": null,
   "metadata": {},
   "outputs": [],
   "source": []
  }
 ],
 "metadata": {
  "kernelspec": {
   "display_name": "Python 3",
   "language": "python",
   "name": "python3"
  },
  "language_info": {
   "codemirror_mode": {
    "name": "ipython",
    "version": 3
   },
   "file_extension": ".py",
   "mimetype": "text/x-python",
   "name": "python",
   "nbconvert_exporter": "python",
   "pygments_lexer": "ipython3",
   "version": "3.6.5"
  }
 },
 "nbformat": 4,
 "nbformat_minor": 2
}
