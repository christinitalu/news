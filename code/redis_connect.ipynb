{
 "cells": [
  {
   "cell_type": "code",
   "execution_count": 1,
   "metadata": {},
   "outputs": [
    {
     "name": "stdout",
     "output_type": "stream",
     "text": [
      "Requirement already satisfied: redis in /opt/conda/lib/python3.6/site-packages (3.0.1)\n",
      "Requirement already satisfied: line-bot-sdk in /opt/conda/lib/python3.6/site-packages (1.8.0)\n",
      "Requirement already satisfied: future in /opt/conda/lib/python3.6/site-packages (from line-bot-sdk) (0.17.1)\n",
      "Requirement already satisfied: requests>=2.0 in /opt/conda/lib/python3.6/site-packages (from line-bot-sdk) (2.19.1)\n",
      "Requirement already satisfied: chardet<3.1.0,>=3.0.2 in /opt/conda/lib/python3.6/site-packages (from requests>=2.0->line-bot-sdk) (3.0.4)\n",
      "Requirement already satisfied: idna<2.8,>=2.5 in /opt/conda/lib/python3.6/site-packages (from requests>=2.0->line-bot-sdk) (2.7)\n",
      "Requirement already satisfied: urllib3<1.24,>=1.21.1 in /opt/conda/lib/python3.6/site-packages (from requests>=2.0->line-bot-sdk) (1.23)\n",
      "Requirement already satisfied: certifi>=2017.4.17 in /opt/conda/lib/python3.6/site-packages (from requests>=2.0->line-bot-sdk) (2018.8.13)\n"
     ]
    }
   ],
   "source": [
    "!pip install redis\n",
    "!pip install line-bot-sdk"
   ]
  },
  {
   "cell_type": "code",
   "execution_count": 2,
   "metadata": {},
   "outputs": [],
   "source": [
    "\"\"\"\n",
    "\n",
    "    1.針對跟redis的連線\n",
    "    \n",
    "\n",
    "\"\"\"\n",
    "\n",
    "import redis\n",
    "\n",
    "#製作redis連線\n",
    "redis = redis.Redis(\n",
    "    #redis container的host name\n",
    "    host='redis',\n",
    "    port=6379,\n",
    "    #預設沒密碼\n",
    "    password=None,\n",
    "    #給格式\n",
    "    charset=\"utf-8\",\n",
    "    #要解碼不然回傳的資料前面會多一個b\n",
    "    decode_responses=True)\n"
   ]
  },
  {
   "cell_type": "code",
   "execution_count": 3,
   "metadata": {},
   "outputs": [
    {
     "data": {
      "text/plain": [
       "0"
      ]
     },
     "execution_count": 3,
     "metadata": {},
     "output_type": "execute_result"
    }
   ],
   "source": [
    "#redis.hmset(\"test\",{\"message\":\"88\"})\n",
    "redis.sadd(\"my_set\", \"87\", \"88\", \"89\")"
   ]
  },
  {
   "cell_type": "code",
   "execution_count": 4,
   "metadata": {},
   "outputs": [
    {
     "data": {
      "text/plain": [
       "True"
      ]
     },
     "execution_count": 4,
     "metadata": {},
     "output_type": "execute_result"
    }
   ],
   "source": [
    "redis.scard(\"my_set\")\n",
    "redis.smembers(\"my_set\")\n",
    "\"87\" in redis.smembers(\"my_set\")"
   ]
  },
  {
   "cell_type": "code",
   "execution_count": 2,
   "metadata": {},
   "outputs": [
    {
     "name": "stdout",
     "output_type": "stream",
     "text": [
      "Collecting python-logstash\n",
      "  Downloading https://files.pythonhosted.org/packages/4e/8d/7ff2e8e8e2613e7bb7654790480bb4cf51a55721371adbb631b16cb16dce/python-logstash-0.4.6.tar.gz\n",
      "Building wheels for collected packages: python-logstash\n",
      "  Running setup.py bdist_wheel for python-logstash ... \u001b[?25ldone\n",
      "\u001b[?25h  Stored in directory: /home/jovyan/.cache/pip/wheels/ae/be/2d/626d5c1fa358aada2de09a07c2318848ad35afada0f9651665\n",
      "Successfully built python-logstash\n",
      "Installing collected packages: python-logstash\n",
      "Successfully installed python-logstash-0.4.6\n"
     ]
    }
   ],
   "source": [
    "!pip install python-logstash"
   ]
  },
  {
   "cell_type": "code",
   "execution_count": 4,
   "metadata": {},
   "outputs": [
    {
     "name": "stdout",
     "output_type": "stream",
     "text": [
      "done,please see kibana\n"
     ]
    }
   ],
   "source": [
    "import logging\n",
    "import logstash\n",
    "import sys\n",
    "\n",
    "host = 'logstash'\n",
    "\n",
    "test_logger = logging.getLogger('python-logstash-logger')\n",
    "test_logger.setLevel(logging.INFO)\n",
    "\n",
    "# UDP\n",
    "# test_logger.addHandler(logstash.LogstashHandler(host, 12201, version=1))\n",
    "\n",
    "# TCP\n",
    "test_logger.addHandler(logstash.TCPLogstashHandler(host, 5000, version=1))\n",
    "\n",
    "# test_logger.error('python-logstash: test logstash error message.')\n",
    "# test_logger.info('python-logstash: test logstash info message.')\n",
    "# test_logger.warning('python-logstash: test logstash warning message.')\n",
    "\n",
    "# add extra field to logstash message\n",
    "extra = {\n",
    "    'test_string': 'python version: ' + repr(sys.version_info),\n",
    "    'test_boolean': True,\n",
    "    'test_dict': {'a': 1, 'b': 'c'},\n",
    "    'test_float': 1.23,\n",
    "    'test_integer': 123,\n",
    "    'test_list': [1, 2, '3'],\n",
    "}\n",
    "test_logger.error('python-logstash: test extra fields', extra=extra)\n",
    "test_logger.handlers.clear()\n",
    "print('done,please see kibana')"
   ]
  },
  {
   "cell_type": "code",
   "execution_count": 6,
   "metadata": {},
   "outputs": [],
   "source": [
    "import redis\n",
    "from hashlib import md5\n",
    "\n",
    "\n",
    "class SimpleHash(object):\n",
    "    def __init__(self, cap, seed):\n",
    "        self.cap = cap\n",
    "        self.seed = seed\n",
    "\n",
    "    def hash(self, value):\n",
    "        ret = 0\n",
    "        for i in range(len(value)):\n",
    "            ret += self.seed * ret + ord(value[i])\n",
    "        return (self.cap - 1) & ret\n",
    "\n",
    "\n",
    "class BloomFilter(object):\n",
    "    def __init__(self, host='redis', port=6379, db=0, blockNum=1, key='bloomfilter'):\n",
    "        \"\"\"\n",
    "        :param host: the host of Redis\n",
    "        :param port: the port of Redis\n",
    "        :param db: witch db in Redis\n",
    "        :param blockNum: one blockNum for about 90,000,000; if you have more strings for filtering, increase it.\n",
    "        :param key: the key's name in Redis\n",
    "        \"\"\"\n",
    "        self.server = redis.Redis(host=host, port=port, db=db)\n",
    "        self.bit_size = 1 << 31  # Redis的String类型最大容量为512M，现使用256M\n",
    "        self.seeds = [5, 7, 11, 13, 31, 37, 61]\n",
    "        self.key = key\n",
    "        self.blockNum = blockNum\n",
    "        self.hashfunc = []\n",
    "        for seed in self.seeds:\n",
    "            self.hashfunc.append(SimpleHash(self.bit_size, seed))\n",
    "\n",
    "    def isContains(self, str_input):\n",
    "        if not str_input:\n",
    "            return False\n",
    "        m5 = md5()\n",
    "        m5.update(str_input)\n",
    "        str_input = m5.hexdigest()\n",
    "        ret = True\n",
    "        name = self.key + str(int(str_input[0:2], 16) % self.blockNum)\n",
    "        for f in self.hashfunc:\n",
    "            loc = f.hash(str_input)\n",
    "            ret = ret & self.server.getbit(name, loc)\n",
    "        return ret\n",
    "\n",
    "    def insert(self, str_input):\n",
    "        m5 = md5()\n",
    "        m5.update(str_input)\n",
    "        str_input = m5.hexdigest()\n",
    "        name = self.key + str(int(str_input[0:2], 16) % self.blockNum)\n",
    "        for f in self.hashfunc:\n",
    "            loc = f.hash(str_input)\n",
    "            self.server.setbit(name, loc, 1)"
   ]
  },
  {
   "cell_type": "code",
   "execution_count": 8,
   "metadata": {},
   "outputs": [
    {
     "name": "stdout",
     "output_type": "stream",
     "text": [
      "exists!\n"
     ]
    }
   ],
   "source": [
    "import redis\n",
    "from hashlib import md5\n",
    "\n",
    "            \n",
    "bf = BloomFilter()\n",
    "url = \"https://tw.news.appledaily.com/politics/realtime/20181125/1473059/\"\n",
    "url = url.encode('utf-8')\n",
    "if bf.isContains(url):   # 判断字符串是否存在\n",
    "    print('exists!')\n",
    "else:\n",
    "    print('not exists!')\n",
    "    bf.insert(url)"
   ]
  },
  {
   "cell_type": "code",
   "execution_count": 17,
   "metadata": {},
   "outputs": [
    {
     "name": "stdout",
     "output_type": "stream",
     "text": [
      "Sat Dec  1 09:14:16 2018\n"
     ]
    }
   ],
   "source": [
    "import time\n",
    "\n",
    "print(time.asctime())"
   ]
  },
  {
   "cell_type": "code",
   "execution_count": 9,
   "metadata": {},
   "outputs": [
    {
     "data": {
      "text/plain": [
       "datetime.date(2018, 11, 29)"
      ]
     },
     "execution_count": 9,
     "metadata": {},
     "output_type": "execute_result"
    }
   ],
   "source": [
    "import datetime\n",
    "today = datetime.date.today()\n",
    "today"
   ]
  },
  {
   "cell_type": "code",
   "execution_count": null,
   "metadata": {},
   "outputs": [],
   "source": []
  }
 ],
 "metadata": {
  "kernelspec": {
   "display_name": "Python 3",
   "language": "python",
   "name": "python3"
  },
  "language_info": {
   "codemirror_mode": {
    "name": "ipython",
    "version": 3
   },
   "file_extension": ".py",
   "mimetype": "text/x-python",
   "name": "python",
   "nbconvert_exporter": "python",
   "pygments_lexer": "ipython3",
   "version": "3.6.5"
  }
 },
 "nbformat": 4,
 "nbformat_minor": 2
}
