{
 "cells": [
  {
   "cell_type": "code",
   "execution_count": 1,
   "metadata": {},
   "outputs": [
    {
     "name": "stdout",
     "output_type": "stream",
     "text": [
      "Start sending messages ...\n",
      "Send 4 messages to Kafka\n",
      "Message sending completed!\n"
     ]
    }
   ],
   "source": [
    "from kafka import KafkaProducer\n",
    "import sys\n",
    "\n",
    "if __name__ == \"__main__\":\n",
    "    # 步驟1.設定要連線到Kafka集群的相關設定, 並產生一個Kafka的Producer的實例\n",
    "    producer = KafkaProducer(\n",
    "        # Kafka集群在那裡?\n",
    "        bootstrap_servers=[\"kafka1:29092\"],\n",
    "        # 指定msgKey的序列化器, 若Key為None, 無法序列化, 透過producer直接給值\n",
    "        # key_serializer=str.encode,\n",
    "        # 指定msgValue的序列化器\n",
    "        value_serializer=str.encode\n",
    "    )\n",
    "\n",
    "    # 步驟2.指定想要發佈訊息的topic名稱\n",
    "    topic_name = \"test\"\n",
    "\n",
    "    msg_counter = 0\n",
    "    try:\n",
    "        print(\"Start sending messages ...\")\n",
    "        # 步驟3.產生要發佈到Kafka的訊息\n",
    "        # - 參數  # 1: topicName\n",
    "        # - 參數  # 2: msgKey\n",
    "        # - 參數  # 3: msgValue\n",
    "        producer.send(topic=topic_name, key=None, value=\"001\")\n",
    "        producer.send(topic=topic_name, key=None, value=\"002\")\n",
    "        producer.send(topic=topic_name, key=b\"sgxxx3\", value='003')\n",
    "        producer.send(topic=topic_name, key=b\"sgxxx4\", value=\"004\")\n",
    "        msg_counter += 4\n",
    "        print(\"Send \" + str(msg_counter) + \" messages to Kafka\")\n",
    "        print(\"Message sending completed!\")\n",
    "    except Exception as e:\n",
    "        # 錯誤處理\n",
    "        e_type, e_value, e_traceback = sys.exc_info()\n",
    "        print(\"type ==> %s\" % (e_type))\n",
    "        print(\"value ==> %s\" % (e_value))\n",
    "        print(\"traceback ==> file name: %s\" % (e_traceback.tb_frame.f_code.co_filename))\n",
    "        print(\"traceback ==> line no: %s\" % (e_traceback.tb_lineno))\n",
    "        print(\"traceback ==> function name: %s\" % (e_traceback.tb_frame.f_code.co_name))\n",
    "    finally:\n",
    "        # 步驟4.關掉Producer實例的連線\n",
    "        producer.close()"
   ]
  },
  {
   "cell_type": "code",
   "execution_count": null,
   "metadata": {},
   "outputs": [],
   "source": []
  }
 ],
 "metadata": {
  "kernelspec": {
   "display_name": "Python 3",
   "language": "python",
   "name": "python3"
  },
  "language_info": {
   "codemirror_mode": {
    "name": "ipython",
    "version": 3
   },
   "file_extension": ".py",
   "mimetype": "text/x-python",
   "name": "python",
   "nbconvert_exporter": "python",
   "pygments_lexer": "ipython3",
   "version": "3.6.5"
  }
 },
 "nbformat": 4,
 "nbformat_minor": 2
}
